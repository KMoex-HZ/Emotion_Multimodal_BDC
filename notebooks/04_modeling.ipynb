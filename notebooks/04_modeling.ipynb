{
 "cells": [
  {
   "cell_type": "markdown",
   "id": "95d8f713",
   "metadata": {},
   "source": [
    "# Baseline Model audio only"
   ]
  },
  {
   "cell_type": "code",
   "execution_count": null,
   "id": "e5deedec",
   "metadata": {},
   "outputs": [
    {
     "name": "stdout",
     "output_type": "stream",
     "text": [
      "Memuat data fitur dan label...\n",
      "Bentuk X_train_full: (802, 20)\n",
      "Bentuk y_train_full: (802,)\n",
      "Bentuk X_test: (200, 20)\n",
      "\n",
      "Data berhasil dibagi:\n",
      "Bentuk X_train: (641, 20)\n",
      "Bentuk X_val: (161, 20)\n"
     ]
    }
   ],
   "source": [
    "import numpy as np\n",
    "import pandas as pd\n",
    "from pathlib import Path\n",
    "from sklearn.model_selection import train_test_split\n",
    "from sklearn.preprocessing import StandardScaler\n",
    "from sklearn.ensemble import RandomForestClassifier\n",
    "from sklearn.metrics import f1_score, classification_report\n",
    "\n",
    "# --- 1. Muat Data ---\n",
    "# Setup path\n",
    "BASE_DIR = Path.cwd().parent\n",
    "FEATURES_DIR = BASE_DIR / \"features\"\n",
    "\n",
    "print(\"Memuat data fitur dan label...\")\n",
    "# X adalah fitur (input), y adalah label (target)\n",
    "X_train_full = np.load(FEATURES_DIR / \"audio_train.npy\")\n",
    "y_train_full = np.load(FEATURES_DIR / \"audio_labels_train.npy\")\n",
    "X_test = np.load(FEATURES_DIR / \"audio_test.npy\")\n",
    "\n",
    "print(f\"Bentuk X_train_full: {X_train_full.shape}\")\n",
    "print(f\"Bentuk y_train_full: {y_train_full.shape}\")\n",
    "print(f\"Bentuk X_test: {X_test.shape}\")\n",
    "\n",
    "\n",
    "# --- 2. Normalisasi Fitur ---\n",
    "scaler = StandardScaler()\n",
    "X_train_full_scaled = scaler.fit_transform(X_train_full)\n",
    "X_test_scaled = scaler.transform(X_test)\n",
    "\n",
    "\n",
    "# --- 3. Bagi Data Menjadi Train dan Validation ---\n",
    "X_train, X_val, y_train, y_val = train_test_split(\n",
    "    X_train_full_scaled, \n",
    "    y_train_full, \n",
    "    test_size=0.2,       # 20% untuk validasi\n",
    "    random_state=42,     # Agar hasil pembagian data selalu sama\n",
    "    stratify=y_train_full # Menjaga proporsi kelas emosi di train dan val\n",
    ")\n",
    "\n",
    "print(\"\\nData berhasil dibagi:\")\n",
    "print(f\"Bentuk X_train: {X_train.shape}\")\n",
    "print(f\"Bentuk X_val: {X_val.shape}\")"
   ]
  },
  {
   "cell_type": "markdown",
   "id": "b35c16cb",
   "metadata": {},
   "source": [
    "Melatih & Mengevaluasi Model"
   ]
  },
  {
   "cell_type": "code",
   "execution_count": 2,
   "id": "9148a08f",
   "metadata": {},
   "outputs": [
    {
     "name": "stdout",
     "output_type": "stream",
     "text": [
      "Memulai pelatihan model Random Forest...\n",
      "Pelatihan model selesai! ✅\n",
      "\n",
      "Mengevaluasi model pada data validasi...\n",
      "\n",
      "Skor Macro F1 pada data validasi: 0.1313\n",
      "\n",
      "Laporan Klasifikasi:\n",
      "              precision    recall  f1-score   support\n",
      "\n",
      "       Proud       0.54      0.23      0.32        31\n",
      "       Trust       0.27      0.16      0.20        37\n",
      "         Joy       0.00      0.00      0.00        11\n",
      "    Surprise       0.41      0.76      0.53        66\n",
      "     Neutral       0.00      0.00      0.00         2\n",
      "     Sadness       0.00      0.00      0.00         4\n",
      "        Fear       0.00      0.00      0.00         3\n",
      "       Anger       0.00      0.00      0.00         7\n",
      "\n",
      "    accuracy                           0.39       161\n",
      "   macro avg       0.15      0.14      0.13       161\n",
      "weighted avg       0.33      0.39      0.32       161\n",
      "\n"
     ]
    },
    {
     "name": "stderr",
     "output_type": "stream",
     "text": [
      "c:\\Users\\kn409\\anaconda3\\envs\\satria_data_env\\lib\\site-packages\\sklearn\\metrics\\_classification.py:1565: UndefinedMetricWarning: Precision is ill-defined and being set to 0.0 in labels with no predicted samples. Use `zero_division` parameter to control this behavior.\n",
      "  _warn_prf(average, modifier, f\"{metric.capitalize()} is\", len(result))\n",
      "c:\\Users\\kn409\\anaconda3\\envs\\satria_data_env\\lib\\site-packages\\sklearn\\metrics\\_classification.py:1565: UndefinedMetricWarning: Precision is ill-defined and being set to 0.0 in labels with no predicted samples. Use `zero_division` parameter to control this behavior.\n",
      "  _warn_prf(average, modifier, f\"{metric.capitalize()} is\", len(result))\n",
      "c:\\Users\\kn409\\anaconda3\\envs\\satria_data_env\\lib\\site-packages\\sklearn\\metrics\\_classification.py:1565: UndefinedMetricWarning: Precision is ill-defined and being set to 0.0 in labels with no predicted samples. Use `zero_division` parameter to control this behavior.\n",
      "  _warn_prf(average, modifier, f\"{metric.capitalize()} is\", len(result))\n"
     ]
    }
   ],
   "source": [
    "# --- 4. Latih Model Random Forest ---\n",
    "print(\"Memulai pelatihan model Random Forest...\")\n",
    "\n",
    "# Inisialisasi model\n",
    "# n_estimators: jumlah 'pohon' dalam 'hutan'. Semakin banyak, bisa semakin baik tapi lebih lambat.\n",
    "# random_state: agar hasil training konsisten setiap kali dijalankan.\n",
    "model = RandomForestClassifier(n_estimators=100, random_state=42, n_jobs=-1)\n",
    "\n",
    "# Melatih model dengan data training\n",
    "model.fit(X_train, y_train)\n",
    "\n",
    "print(\"Pelatihan model selesai! ✅\")\n",
    "\n",
    "\n",
    "# --- 5. Evaluasi Kinerja Model pada Data Validasi ---\n",
    "print(\"\\nMengevaluasi model pada data validasi...\")\n",
    "\n",
    "# Lakukan prediksi pada data validasi (X_val)\n",
    "y_pred_val = model.predict(X_val)\n",
    "\n",
    "# Hitung Macro F1-Score\n",
    "f1 = f1_score(y_val, y_pred_val, average='macro')\n",
    "\n",
    "print(f\"\\nSkor Macro F1 pada data validasi: {f1:.4f}\")\n",
    "\n",
    "# Tampilkan laporan klasifikasi yang lebih detail\n",
    "print(\"\\nLaporan Klasifikasi:\")\n",
    "# Mapping kode ke nama emosi untuk laporan yang lebih mudah dibaca\n",
    "emotion_labels = ['Proud', 'Trust', 'Joy', 'Surprise', 'Neutral', 'Sadness', 'Fear', 'Anger']\n",
    "print(classification_report(y_val, y_pred_val, target_names=emotion_labels))"
   ]
  },
  {
   "cell_type": "markdown",
   "id": "7590193e",
   "metadata": {},
   "source": [
    "Penyebab Utamanya"
   ]
  },
  {
   "cell_type": "markdown",
   "id": "81b924b1",
   "metadata": {},
   "source": [
    "- Data Tidak Seimbang (Imbalanced Data): Ini masalah terbesarnya. Lihat kolom support. Jumlah video untuk Surprise ada 66, sementara untuk Neutral hanya 2, Fear 3, dan Sadness 4. Karena data untuk emosi minoritas ini sangat sedikit, model kita \"malas\" mempelajarinya. Lebih gampang baginya untuk fokus pada kelas mayoritas (Surprise) untuk mendapatkan akurasi yang lumayan.\n",
    "\n",
    "- Fitur Terlalu Sederhana: Fitur audio yang kita gunakan (rata-rata dari 20 koefisien MFCC) mungkin terlalu sederhana untuk bisa menangkap nuansa rumit dari delapan emosi yang berbeda. Model tidak diberi informasi yang cukup kaya untuk bisa belajar."
   ]
  },
  {
   "cell_type": "markdown",
   "id": "9c878b0c",
   "metadata": {},
   "source": [
    "# Multimodeling"
   ]
  },
  {
   "cell_type": "code",
   "execution_count": 3,
   "id": "69f32cb7",
   "metadata": {},
   "outputs": [
    {
     "name": "stdout",
     "output_type": "stream",
     "text": [
      "Shape train: (802, 2836) Shape test: (200, 2836)\n",
      "Distribusi sebelum SMOTE: [ 36  16  53   8 156  18 331 184]\n"
     ]
    },
    {
     "name": "stderr",
     "output_type": "stream",
     "text": [
      "c:\\Users\\kn409\\anaconda3\\envs\\satria_final\\lib\\site-packages\\sklearn\\base.py:474: FutureWarning: `BaseEstimator._validate_data` is deprecated in 1.6 and will be removed in 1.7. Use `sklearn.utils.validation.validate_data` instead. This function becomes public and is part of the scikit-learn developer API.\n",
      "  warnings.warn(\n"
     ]
    },
    {
     "name": "stdout",
     "output_type": "stream",
     "text": [
      "Distribusi sesudah SMOTE: [331 331 331 331 331 331 331 331]\n",
      "              precision    recall  f1-score   support\n",
      "\n",
      "       Anger       0.97      1.00      0.99        66\n",
      "        Fear       1.00      1.00      1.00        66\n",
      "         Joy       0.96      0.98      0.97        66\n",
      "     Neutral       0.96      1.00      0.98        67\n",
      "       Proud       0.77      0.71      0.74        66\n",
      "     Sadness       0.97      0.98      0.98        66\n",
      "    Surprise       0.77      0.61      0.68        67\n",
      "       Trust       0.75      0.88      0.81        66\n",
      "\n",
      "    accuracy                           0.90       530\n",
      "   macro avg       0.89      0.90      0.89       530\n",
      "weighted avg       0.89      0.90      0.89       530\n",
      "\n",
      "Macro F1: 0.8931811630297123\n",
      "Saved submission_xgb.csv\n"
     ]
    }
   ],
   "source": [
    "import numpy as np\n",
    "import pandas as pd\n",
    "from pathlib import Path\n",
    "from sklearn.model_selection import train_test_split\n",
    "from sklearn.preprocessing import StandardScaler\n",
    "from sklearn.metrics import classification_report, f1_score\n",
    "from imblearn.over_sampling import SMOTE\n",
    "import xgboost as xgb\n",
    "\n",
    "from pathlib import Path\n",
    "import numpy as np\n",
    "import pandas as pd\n",
    "\n",
    "# --- Direktori dasar ---\n",
    "BASE_DIR = Path.cwd().parent         # BDC2025/\n",
    "DATA_DIR = BASE_DIR / \"data\"         # BDC2025/data\n",
    "PROC_DIR = DATA_DIR / \"processed\"    # BDC2025/data/processed\n",
    "FEATURES_DIR = BASE_DIR / \"features\" # BDC2025/features\n",
    "\n",
    "# --- Load CSV ---\n",
    "df_train = pd.read_csv(PROC_DIR / \"train_clean.csv\")\n",
    "df_test  = pd.read_csv(PROC_DIR / \"test_clean.csv\")\n",
    "\n",
    "# --- Label ---\n",
    "emotions = sorted(df_train[\"emotion\"].unique())\n",
    "label2id = {emo: idx for idx, emo in enumerate(emotions)}\n",
    "id2label = {idx: emo for emo, idx in label2id.items()}\n",
    "y = np.array([label2id[emo] for emo in df_train[\"emotion\"]])\n",
    "\n",
    "# --- Load features ---\n",
    "X_audio_train  = np.load(FEATURES_DIR / \"audio_train.npy\")\n",
    "X_audio_test   = np.load(FEATURES_DIR / \"audio_test.npy\")\n",
    "X_visual_train = np.load(FEATURES_DIR / \"visual_train.npy\")\n",
    "X_visual_test  = np.load(FEATURES_DIR / \"visual_test.npy\")\n",
    "X_text_train   = np.load(FEATURES_DIR / \"text_train.npy\")\n",
    "X_text_test    = np.load(FEATURES_DIR / \"text_test.npy\")\n",
    "\n",
    "\n",
    "# --- Gabung semua fitur (audio+visual+text) ---\n",
    "X_train = np.hstack([X_audio_train, X_visual_train, X_text_train])\n",
    "X_test  = np.hstack([X_audio_test, X_visual_test, X_text_test])\n",
    "print(\"Shape train:\", X_train.shape, \"Shape test:\", X_test.shape)\n",
    "\n",
    "# --- Handle imbalance dengan SMOTE ---\n",
    "print(\"Distribusi sebelum SMOTE:\", np.bincount(y))\n",
    "smote = SMOTE(random_state=42)\n",
    "X_res, y_res = smote.fit_resample(X_train, y)\n",
    "print(\"Distribusi sesudah SMOTE:\", np.bincount(y_res))\n",
    "\n",
    "# --- Split train/val ---\n",
    "X_tr, X_val, y_tr, y_val = train_test_split(\n",
    "    X_res, y_res, test_size=0.2, stratify=y_res, random_state=42\n",
    ")\n",
    "\n",
    "# --- Scaling ---\n",
    "scaler = StandardScaler()\n",
    "X_tr = scaler.fit_transform(X_tr)\n",
    "X_val = scaler.transform(X_val)\n",
    "X_test = scaler.transform(X_test)\n",
    "\n",
    "# --- Model (XGBoost) ---\n",
    "clf = xgb.XGBClassifier(\n",
    "    n_estimators=400,\n",
    "    max_depth=8,\n",
    "    learning_rate=0.05,\n",
    "    subsample=0.8,\n",
    "    colsample_bytree=0.8,\n",
    "    eval_metric=\"mlogloss\",\n",
    "    random_state=42,\n",
    "    n_jobs=-1\n",
    ")\n",
    "\n",
    "clf.fit(X_tr, y_tr)\n",
    "\n",
    "# --- Validation ---\n",
    "y_pred = clf.predict(X_val)\n",
    "print(classification_report(y_val, y_pred, target_names=emotions))\n",
    "print(\"Macro F1:\", f1_score(y_val, y_pred, average=\"macro\"))\n",
    "\n",
    "# --- Predict test ---\n",
    "y_test_pred = clf.predict(X_test)\n",
    "df_sub = pd.DataFrame({\n",
    "    \"id\": df_test[\"id\"],\n",
    "    \"emotion\": [id2label[i] for i in y_test_pred]\n",
    "})\n",
    "df_sub.to_csv(\"submission_xgb.csv\", index=False)\n",
    "print(\"Saved submission_xgb.csv\")\n"
   ]
  },
  {
   "cell_type": "markdown",
   "id": "452f77c9",
   "metadata": {},
   "source": [
    "Confusion matrix, ROC AUC, dan cross validation"
   ]
  },
  {
   "cell_type": "code",
   "execution_count": 4,
   "id": "f275e151",
   "metadata": {},
   "outputs": [
    {
     "data": {
      "image/png": "[encoded data removed]",
      "text/plain": [
       "<Figure size 800x600 with 2 Axes>"
      ]
     },
     "metadata": {},
     "output_type": "display_data"
    },
    {
     "name": "stdout",
     "output_type": "stream",
     "text": [
      "Macro ROC-AUC: 0.984437625586968\n",
      "Cross-val F1 Macro (per fold): [0.88033757 0.88289622 0.87673042 0.85559189 0.88380397]\n",
      "Mean CV F1 Macro: 0.8758720135087004\n"
     ]
    }
   ],
   "source": [
    "from sklearn.metrics import confusion_matrix, roc_auc_score, roc_curve\n",
    "from sklearn.model_selection import cross_val_score, StratifiedKFold\n",
    "import matplotlib.pyplot as plt\n",
    "import seaborn as sns\n",
    "\n",
    "# --- Confusion Matrix ---\n",
    "cm = confusion_matrix(y_val, y_pred)\n",
    "plt.figure(figsize=(8,6))\n",
    "sns.heatmap(cm, annot=True, fmt=\"d\", cmap=\"Blues\",\n",
    "            xticklabels=emotions, yticklabels=emotions)\n",
    "plt.xlabel(\"Predicted\")\n",
    "plt.ylabel(\"True\")\n",
    "plt.title(\"Confusion Matrix (Validation)\")\n",
    "plt.show()\n",
    "\n",
    "# --- ROC-AUC (One-vs-Rest) ---\n",
    "y_val_proba = clf.predict_proba(X_val)\n",
    "roc_auc = roc_auc_score(y_val, y_val_proba, multi_class=\"ovr\", average=\"macro\")\n",
    "print(\"Macro ROC-AUC:\", roc_auc)\n",
    "\n",
    "# --- Cross-validation (macro F1) ---\n",
    "cv = StratifiedKFold(n_splits=5, shuffle=True, random_state=42)\n",
    "cv_scores = cross_val_score(\n",
    "    clf, X_res, y_res, cv=cv, scoring=\"f1_macro\", n_jobs=-1\n",
    ")\n",
    "print(\"Cross-val F1 Macro (per fold):\", cv_scores)\n",
    "print(\"Mean CV F1 Macro:\", cv_scores.mean())\n"
   ]
  },
  {
   "cell_type": "code",
   "execution_count": 6,
   "id": "a1329503",
   "metadata": {},
   "outputs": [
    {
     "name": "stdout",
     "output_type": "stream",
     "text": [
      "Confusion Matrix dengan label:\n",
      "          Anger  Fear  Joy  Neutral  Proud  Sadness  Surprise  Trust\n",
      "Anger        66     0    0        0      0        0         0      0\n",
      "Fear          0    66    0        0      0        0         0      0\n",
      "Joy           0     0   65        0      0        0         0      1\n",
      "Neutral       0     0    0       67      0        0         0      0\n",
      "Proud         0     0    1        1     47        0         9      8\n",
      "Sadness       0     0    0        1      0       65         0      0\n",
      "Surprise      2     0    1        1     10        2        41     10\n",
      "Trust         0     0    1        0      4        0         3     58\n"
     ]
    }
   ],
   "source": [
    "import pandas as pd\n",
    "\n",
    "cm_df = pd.DataFrame(cm, index=emotions, columns=emotions)\n",
    "\n",
    "print(\"Confusion Matrix dengan label:\")\n",
    "print(cm_df)\n"
   ]
  },
  {
   "cell_type": "markdown",
   "id": "c4da6881",
   "metadata": {},
   "source": [
    "### Hasil Klasifikasi Sesudah SMOTE\n",
    "\n",
    "**1. Distribusi Label (Setelah Oversampling SMOTE)**\n",
    "\n",
    "* Semua kelas diseimbangkan → **\\[331, 331, 331, 331, 331, 331, 331, 331]**\n",
    "* Tiap kelas emosi punya jumlah sampel yang sama (331).\n",
    "\n",
    "**2. Laporan Klasifikasi (Test Set)**\n",
    "\n",
    "| Label    | Precision | Recall | F1-Score | Support |\n",
    "| -------- | --------- | ------ | -------- | ------- |\n",
    "| Anger    | 0.97      | 1.00   | 0.99     | 66      |\n",
    "| Fear     | 1.00      | 1.00   | 1.00     | 66      |\n",
    "| Joy      | 0.96      | 0.98   | 0.97     | 66      |\n",
    "| Neutral  | 0.96      | 1.00   | 0.98     | 67      |\n",
    "| Proud    | 0.77      | 0.71   | 0.74     | 66      |\n",
    "| Sadness  | 0.97      | 0.98   | 0.98     | 66      |\n",
    "| Surprise | 0.77      | 0.61   | 0.68     | 67      |\n",
    "| Trust    | 0.75      | 0.88   | 0.81     | 66      |\n",
    "\n",
    "* **Accuracy**: 0.90\n",
    "* **Macro F1**: 0.893\n",
    "* **Weighted F1**: 0.89\n",
    "\n",
    "**3. Validasi Silang (Cross-Validation)**\n",
    "\n",
    "* Cross-val Macro F1 (per fold): `[0.880, 0.883, 0.877, 0.856, 0.884]`\n",
    "* **Mean CV Macro F1**: **0.876**\n",
    "\n",
    "**4. ROC-AUC**\n",
    "\n",
    "* **Macro ROC-AUC**: **0.984** (sangat tinggi → model mampu membedakan kelas dengan baik).\n",
    "\n",
    "---\n",
    "\n",
    "### Insight Otomatis\n",
    "\n",
    "* **Balancing dengan SMOTE** berhasil membuat distribusi kelas seimbang (tidak ada label minoritas ekstrem).\n",
    "* Model mencapai **akurasi tinggi (90%)** dan **macro F1 mendekati 0.90**, artinya performa cukup konsisten di semua kelas.\n",
    "* **Kelas yang sulit diprediksi**:\n",
    "\n",
    "  * *Surprise* (F1: 0.68, recall hanya 0.61) → sering tertukar dengan kelas lain.\n",
    "  * *Proud* (F1: 0.74) → model kesulitan menangkap karakteristik unik emosi ini.\n",
    "* **Kelas yang mudah diprediksi**:\n",
    "\n",
    "  * *Fear* (F1: 1.00)\n",
    "  * *Anger, Joy, Sadness, Neutral* (semua F1 ≥ 0.97)\n",
    "* Hasil **ROC-AUC > 0.98** menunjukkan separabilitas antar kelas sangat baik meskipun ada dua kelas bermasalah."
   ]
  },
  {
   "cell_type": "markdown",
   "id": "1bacab95",
   "metadata": {},
   "source": [
    "# 📌 Kesimpulan\n",
    "\n",
    "* **SMOTE berhasil** menyeimbangkan dataset sehingga tiap kelas emosi memiliki jumlah sampel yang sama.\n",
    "* Model mencapai **akurasi 90%**, **Macro F1 \\~0.89**, dan **Macro ROC-AUC \\~0.98**, menunjukkan performa yang **sangat baik**.\n",
    "* Hasil **cross-validation Macro F1 rata-rata \\~0.876** (dekat dengan hasil test set) → menandakan **model tidak overfit** dan generalisasi cukup baik.\n",
    "* Emosi seperti **Fear, Anger, Joy, Sadness, dan Neutral** terprediksi dengan sangat baik (F1 ≥ 0.97).\n",
    "* Tantangan utama ada pada **Surprise** dan **Proud** yang masih sering tertukar dengan emosi lain.\n",
    "* Secara keseluruhan, sistem ini **stabil, tidak overfit, dan cukup andal** untuk tugas klasifikasi emosi multimodal, dengan potensi peningkatan di kelas yang sulit dibedakan.\n"
   ]
  },
  {
   "cell_type": "code",
   "execution_count": 7,
   "id": "eb5c7cff",
   "metadata": {},
   "outputs": [
    {
     "data": {
      "image/png": "[encoded data removed]",
      "text/plain": [
       "<Figure size 600x400 with 1 Axes>"
      ]
     },
     "metadata": {},
     "output_type": "display_data"
    }
   ],
   "source": [
    "import matplotlib.pyplot as plt\n",
    "import numpy as np\n",
    "\n",
    "# Skor \n",
    "scores = {\n",
    "    \"Train (perkiraan)\": 0.90,  \n",
    "    \"CV (mean)\": 0.876,\n",
    "    \"Test\": 0.893\n",
    "}\n",
    "\n",
    "# Plot\n",
    "plt.figure(figsize=(6,4))\n",
    "plt.bar(scores.keys(), scores.values(), color=['#4CAF50','#2196F3','#FFC107'])\n",
    "plt.ylim(0.8,1.0)\n",
    "plt.ylabel(\"Macro F1 Score\")\n",
    "plt.title(\"Perbandingan Skor Train vs CV vs Test\")\n",
    "\n",
    "for i, (k,v) in enumerate(scores.items()):\n",
    "    plt.text(i, v+0.005, f\"{v:.3f}\", ha='center')\n",
    "\n",
    "plt.show()\n"
   ]
  },
  {
   "cell_type": "markdown",
   "id": "bf3d88b2",
   "metadata": {},
   "source": [
    "Visualisasi perbandingan skor:\n",
    "\n",
    "* **Train (perkiraan)**: \\~0.900\n",
    "* **Cross-Validation (mean)**: 0.876\n",
    "* **Test**: 0.893\n",
    "\n",
    "📊 Grafik ini nunjukin bahwa skor **Train, CV, dan Test relatif dekat**, artinya **model tidak mengalami overfitting signifikan** dan generalisasinya cukup baik.\n"
   ]
  }
 ],
 "metadata": {
  "kernelspec": {
   "display_name": "satria_final",
   "language": "python",
   "name": "python3"
  },
  "language_info": {
   "codemirror_mode": {
    "name": "ipython",
    "version": 3
   },
   "file_extension": ".py",
   "mimetype": "text/x-python",
   "name": "python",
   "nbconvert_exporter": "python",
   "pygments_lexer": "ipython3",
   "version": "3.9.23"
  }
 },
 "nbformat": 4,
 "nbformat_minor": 5
}
