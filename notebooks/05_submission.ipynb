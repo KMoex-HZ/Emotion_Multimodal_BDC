{
 "cells": [
  {
   "cell_type": "code",
   "execution_count": 4,
   "id": "c81bf874",
   "metadata": {},
   "outputs": [
    {
     "name": "stdout",
     "output_type": "stream",
     "text": [
      "✅ Submission siap di ../output/submission_NamaTim.csv\n"
     ]
    }
   ],
   "source": [
    "import pandas as pd\n",
    "\n",
    "# Baca file hasil prediksi lama\n",
    "df = pd.read_csv(\"../output/submission_xgb.csv\")\n",
    "\n",
    "# Mapping label -> angka\n",
    "label2id = {\n",
    "    \"Proud\": 0,\n",
    "    \"Trust\": 1,\n",
    "    \"Joy\": 2,\n",
    "    \"Surprise\": 3,\n",
    "    \"Neutral\": 4,\n",
    "    \"Sadness\": 5,\n",
    "    \"Fear\": 6,\n",
    "    \"Anger\": 7\n",
    "}\n",
    "\n",
    "# Convert ke angka, kalau gak ada di mapping jadi NaN\n",
    "df[\"predicted\"] = df[\"emotion\"].map(label2id)\n",
    "\n",
    "# Ganti NaN jadi string \"NA\"\n",
    "df[\"predicted\"] = df[\"predicted\"].fillna(\"NA\")\n",
    "\n",
    "# Pastikan id mulai dari 1\n",
    "df[\"id\"] = range(1, len(df) + 1)\n",
    "\n",
    "# Ambil cuma kolom sesuai format\n",
    "df = df[[\"id\", \"predicted\"]]\n",
    "\n",
    "# Simpan file final (ganti NamaTim dengan nama tim lo)\n",
    "df.to_csv(\"../output/submission_NamaTim.csv\", index=False)\n",
    "\n",
    "print(\"✅ Submission siap di ../output/submission_NamaTim.csv\")\n"
   ]
  },
  {
   "cell_type": "code",
   "execution_count": null,
   "id": "fa3955c1",
   "metadata": {},
   "outputs": [
    {
     "name": "stdout",
     "output_type": "stream",
     "text": [
      "🔎 Nilai unik di kolom predicted:\n",
      "[3 1 0 2 4 7 6]\n",
      "\n",
      "📊 Frekuensi tiap nilai:\n",
      "predicted\n",
      "3    107\n",
      "1     44\n",
      "0     30\n",
      "2     10\n",
      "7      5\n",
      "4      2\n",
      "6      2\n",
      "Name: count, dtype: int64\n"
     ]
    }
   ],
   "source": [
    "import pandas as pd\n",
    "\n",
    "df = pd.read_csv(\"../output/submission_NamaTim.csv\")\n",
    "\n",
    "# Cek nilai unik\n",
    "print(\"🔎 Nilai unik di kolom predicted:\")\n",
    "print(df[\"predicted\"].unique())\n",
    "\n",
    "# Jumlah kemunculan tiap nilai\n",
    "print(\"\\n📊 Frekuensi tiap nilai:\")\n",
    "print(df[\"predicted\"].value_counts())\n"
   ]
  }
 ],
 "metadata": {
  "kernelspec": {
   "display_name": "satria_final",
   "language": "python",
   "name": "python3"
  },
  "language_info": {
   "codemirror_mode": {
    "name": "ipython",
    "version": 3
   },
   "file_extension": ".py",
   "mimetype": "text/x-python",
   "name": "python",
   "nbconvert_exporter": "python",
   "pygments_lexer": "ipython3",
   "version": "3.9.21"
  }
 },
 "nbformat": 4,
 "nbformat_minor": 5
}
